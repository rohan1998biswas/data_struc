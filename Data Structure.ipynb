{
 "cells": [
  {
   "cell_type": "code",
   "execution_count": 1,
   "id": "f7c06608-1c7a-4e8d-b9e4-783641f65373",
   "metadata": {},
   "outputs": [],
   "source": [
    "# 1.Discuss string slicing and provide examples."
   ]
  },
  {
   "cell_type": "code",
   "execution_count": 13,
   "id": "3390c387-87d5-4dda-a1b7-e8e73ea6aace",
   "metadata": {},
   "outputs": [
    {
     "name": "stdout",
     "output_type": "stream",
     "text": [
      "Program for odd no of alphabets\n"
     ]
    },
    {
     "data": {
      "text/plain": [
       "'ACEGIKMOQSUWY'"
      ]
     },
     "execution_count": 13,
     "metadata": {},
     "output_type": "execute_result"
    }
   ],
   "source": [
    "# Eg 1:\n",
    "alpha_odd=\"ABCDEFGHIJKLMNOPQRSTUVWXYZ\"\n",
    "print(\"Program for odd no of alphabets\")\n",
    "alpha_odd[0:25:2]"
   ]
  },
  {
   "cell_type": "code",
   "execution_count": 17,
   "id": "87f1b8ee-94ec-4944-86b0-f84c676a66bb",
   "metadata": {},
   "outputs": [
    {
     "name": "stdout",
     "output_type": "stream",
     "text": [
      "Program for alphabet no divisible by 5 or 10\n"
     ]
    },
    {
     "data": {
      "text/plain": [
       "'EJOTY'"
      ]
     },
     "execution_count": 17,
     "metadata": {},
     "output_type": "execute_result"
    }
   ],
   "source": [
    "# Eg 2:\n",
    "alpha_5_10=\"ABCDEFGHIJKLMNOPQRSTUVWXYZ\"\n",
    "print(\"Program for alphabet no divisible by 5 or 10\")\n",
    "alpha_5_10[4:25:5]"
   ]
  },
  {
   "cell_type": "code",
   "execution_count": 25,
   "id": "1adfa074-8def-4620-8f28-89344e87de46",
   "metadata": {},
   "outputs": [],
   "source": [
    "# 3.Describe how to access, modify and delete elements in a list with examples."
   ]
  },
  {
   "cell_type": "code",
   "execution_count": 45,
   "id": "44fc1adb-fea2-43e5-b045-6b079227bde3",
   "metadata": {},
   "outputs": [
    {
     "name": "stdin",
     "output_type": "stream",
     "text": [
      "Enter the no of element you want to access:  2\n"
     ]
    },
    {
     "name": "stdout",
     "output_type": "stream",
     "text": [
      "good\n"
     ]
    }
   ],
   "source": [
    "# Eg 1: Accessing an Element\n",
    "acc=[\"tata\",\"good\",\"bye\",\"gaya\"]\n",
    "i=int(input(\"Enter the no of element you want to access: \"))\n",
    "j=i-1\n",
    "print(hi[j])"
   ]
  },
  {
   "cell_type": "code",
   "execution_count": 55,
   "id": "ddcb424c-3e5e-473b-838c-4f5c1aafeca2",
   "metadata": {},
   "outputs": [
    {
     "name": "stdin",
     "output_type": "stream",
     "text": [
      "Enter the position of element you want to modify:  3\n",
      "Enter the modification:  hi\n"
     ]
    },
    {
     "name": "stdout",
     "output_type": "stream",
     "text": [
      "['tata', 'good', 'hi', 'gaya']\n"
     ]
    }
   ],
   "source": [
    "# Eg 2: Modifying an Element\n",
    "acc=[\"tata\",\"good\",\"bye\",\"gaya\"]\n",
    "i=int(input(\"Enter the position of element you want to modify: \"))\n",
    "s=input(\"Enter the modification: \")\n",
    "j=i-1\n",
    "acc[j]=s\n",
    "print(acc)"
   ]
  },
  {
   "cell_type": "code",
   "execution_count": 56,
   "id": "457e4012-739d-4530-8904-8b712b140df4",
   "metadata": {},
   "outputs": [
    {
     "name": "stdin",
     "output_type": "stream",
     "text": [
      "Enter the element you want to delete:  3\n"
     ]
    },
    {
     "name": "stdout",
     "output_type": "stream",
     "text": [
      "['tata', 'good', 'gaya']\n"
     ]
    }
   ],
   "source": [
    "# Eg 3: Deletion an Element\n",
    "dec=[\"tata\",\"good\",\"bye\",\"gaya\"]\n",
    "i=int(input(\"Enter the element you want to delete: \"))\n",
    "j=i-1\n",
    "s=dec[j]\n",
    "dec.remove(s)\n",
    "print(dec)"
   ]
  },
  {
   "cell_type": "code",
   "execution_count": 48,
   "id": "62c886bd-813c-4099-a8b0-c9acc4d03781",
   "metadata": {},
   "outputs": [],
   "source": [
    "# 4.Compare and contrast tuples and lists with examples."
   ]
  },
  {
   "cell_type": "code",
   "execution_count": 57,
   "id": "bf80eaa7-a17e-437b-9a88-218cd75c3b9a",
   "metadata": {},
   "outputs": [
    {
     "data": {
      "text/plain": [
       "tuple"
      ]
     },
     "execution_count": 57,
     "metadata": {},
     "output_type": "execute_result"
    }
   ],
   "source": [
    "# Eg 1: Tuple\n",
    "tup=(\"hello\", 2024, \"bye\", 2023)\n",
    "type(tup)"
   ]
  },
  {
   "cell_type": "code",
   "execution_count": 51,
   "id": "32b55e42-710b-4192-9c4f-28909b841b14",
   "metadata": {},
   "outputs": [
    {
     "ename": "TypeError",
     "evalue": "'tuple' object does not support item assignment",
     "output_type": "error",
     "traceback": [
      "\u001b[0;31m---------------------------------------------------------------------------\u001b[0m",
      "\u001b[0;31mTypeError\u001b[0m                                 Traceback (most recent call last)",
      "Cell \u001b[0;32mIn[51], line 3\u001b[0m\n\u001b[1;32m      1\u001b[0m \u001b[38;5;66;03m# Eg 2: Tuple being immutable\u001b[39;00m\n\u001b[1;32m      2\u001b[0m imu\u001b[38;5;241m=\u001b[39m(\u001b[38;5;124m\"\u001b[39m\u001b[38;5;124mhello\u001b[39m\u001b[38;5;124m\"\u001b[39m, \u001b[38;5;241m2024\u001b[39m, \u001b[38;5;124m\"\u001b[39m\u001b[38;5;124mbye\u001b[39m\u001b[38;5;124m\"\u001b[39m, \u001b[38;5;241m2023\u001b[39m)\n\u001b[0;32m----> 3\u001b[0m \u001b[43mimu\u001b[49m\u001b[43m[\u001b[49m\u001b[38;5;241;43m2\u001b[39;49m\u001b[43m]\u001b[49m\u001b[38;5;241m=\u001b[39m\u001b[38;5;124m\"\u001b[39m\u001b[38;5;124mgone\u001b[39m\u001b[38;5;124m\"\u001b[39m\n",
      "\u001b[0;31mTypeError\u001b[0m: 'tuple' object does not support item assignment"
     ]
    }
   ],
   "source": [
    "# Eg 2: Tuple being immutable\n",
    "imu=(\"hello\", 2024, \"bye\", 2023)\n",
    "imu[2]=\"gone\""
   ]
  },
  {
   "cell_type": "code",
   "execution_count": 52,
   "id": "2e2a20ff-972e-41a1-925b-7dce749357e3",
   "metadata": {},
   "outputs": [
    {
     "data": {
      "text/plain": [
       "list"
      ]
     },
     "execution_count": 52,
     "metadata": {},
     "output_type": "execute_result"
    }
   ],
   "source": [
    "# Eg 3: List\n",
    "lis=[\"hello\", 2024, \"bye\", 2023]\n",
    "type(lis)"
   ]
  },
  {
   "cell_type": "code",
   "execution_count": 58,
   "id": "3e680f53-e8de-4393-9b73-f69a4791bf17",
   "metadata": {},
   "outputs": [
    {
     "data": {
      "text/plain": [
       "['hello', 2024, 'gone', 2023]"
      ]
     },
     "execution_count": 58,
     "metadata": {},
     "output_type": "execute_result"
    }
   ],
   "source": [
    "# Eg 4: List being mutable\n",
    "mu=[\"hello\", 2024, \"bye\", 2023]\n",
    "mu[2]=\"gone\"\n",
    "mu"
   ]
  },
  {
   "cell_type": "code",
   "execution_count": 59,
   "id": "8d5f4251-a507-4311-a4e4-05a83fb2a4f4",
   "metadata": {},
   "outputs": [],
   "source": [
    "# 5.Describe the key features of a sets and provide examples of their use."
   ]
  },
  {
   "cell_type": "code",
   "execution_count": 67,
   "id": "9a9cf228-95ba-4676-91e9-5f6e0e06779a",
   "metadata": {},
   "outputs": [
    {
     "data": {
      "text/plain": [
       "{'Annabel', 'Kakuda', 'Kirmada', 'Monjolika', 'Stree'}"
      ]
     },
     "execution_count": 67,
     "metadata": {},
     "output_type": "execute_result"
    }
   ],
   "source": [
    "# Eg 1: Making attendance sheet\n",
    "att={\"Kirmada\",\"Kakuda\",\"Stree\",\"Monjolika\",\"Annabel\"}\n",
    "att"
   ]
  },
  {
   "cell_type": "code",
   "execution_count": 68,
   "id": "ad7ae249-8673-472b-a4ba-0b33eff3f090",
   "metadata": {},
   "outputs": [
    {
     "ename": "TypeError",
     "evalue": "'set' object is not subscriptable",
     "output_type": "error",
     "traceback": [
      "\u001b[0;31m---------------------------------------------------------------------------\u001b[0m",
      "\u001b[0;31mTypeError\u001b[0m                                 Traceback (most recent call last)",
      "Cell \u001b[0;32mIn[68], line 3\u001b[0m\n\u001b[1;32m      1\u001b[0m \u001b[38;5;66;03m# Eg 2: No Indexing\u001b[39;00m\n\u001b[1;32m      2\u001b[0m ind\u001b[38;5;241m=\u001b[39m{\u001b[38;5;124m\"\u001b[39m\u001b[38;5;124mKirmada\u001b[39m\u001b[38;5;124m\"\u001b[39m,\u001b[38;5;124m\"\u001b[39m\u001b[38;5;124mKakuda\u001b[39m\u001b[38;5;124m\"\u001b[39m,\u001b[38;5;124m\"\u001b[39m\u001b[38;5;124mMonjolika\u001b[39m\u001b[38;5;124m\"\u001b[39m,\u001b[38;5;124m\"\u001b[39m\u001b[38;5;124mStree\u001b[39m\u001b[38;5;124m\"\u001b[39m,\u001b[38;5;124m\"\u001b[39m\u001b[38;5;124mAnnabel\u001b[39m\u001b[38;5;124m\"\u001b[39m}\n\u001b[0;32m----> 3\u001b[0m \u001b[43mind\u001b[49m\u001b[43m[\u001b[49m\u001b[38;5;241;43m2\u001b[39;49m\u001b[43m]\u001b[49m\n",
      "\u001b[0;31mTypeError\u001b[0m: 'set' object is not subscriptable"
     ]
    }
   ],
   "source": [
    "# Eg 2: No Indexing\n",
    "ind={\"Kirmada\",\"Kakuda\",\"Monjolika\",\"Stree\",\"Annabel\"}\n",
    "ind[2]"
   ]
  },
  {
   "cell_type": "code",
   "execution_count": 69,
   "id": "2a4676b1-17cd-4e0b-816f-1e7a50cab2d8",
   "metadata": {},
   "outputs": [
    {
     "data": {
      "text/plain": [
       "{'Mahishmati'}"
      ]
     },
     "execution_count": 69,
     "metadata": {},
     "output_type": "execute_result"
    }
   ],
   "source": [
    "# Eg 3: Inserting elements to empty set\n",
    "emp=set()\n",
    "emp.add(\"Mahishmati\")\n",
    "emp"
   ]
  },
  {
   "cell_type": "code",
   "execution_count": 70,
   "id": "16e95963-25b2-4932-a01b-17bbbf9057c4",
   "metadata": {},
   "outputs": [],
   "source": [
    "# 7. Describe how to add, modify and delete items in a dictionary with examples."
   ]
  },
  {
   "cell_type": "code",
   "execution_count": 74,
   "id": "d5d5c358-b830-4158-ba53-55fcd54342f8",
   "metadata": {},
   "outputs": [
    {
     "data": {
      "text/plain": [
       "{'name': 'Champ', 'date': 5, 'month': 'Aug'}"
      ]
     },
     "execution_count": 74,
     "metadata": {},
     "output_type": "execute_result"
    }
   ],
   "source": [
    "# Eg 1: Adding items in a dictionary\n",
    "dic={\"name\":\"Champ\",\"date\":5}\n",
    "dic[\"month\"]=\"Aug\"\n",
    "dic"
   ]
  },
  {
   "cell_type": "code",
   "execution_count": 75,
   "id": "84e20313-7bd3-40a3-b730-9b9864c76bd8",
   "metadata": {},
   "outputs": [
    {
     "data": {
      "text/plain": [
       "{'name': 'Don', 'date': 5}"
      ]
     },
     "execution_count": 75,
     "metadata": {},
     "output_type": "execute_result"
    }
   ],
   "source": [
    "# Eg 2: Modifying items in a dictionary\n",
    "mod={\"name\":\"Champ\",\"date\":5}\n",
    "mod[\"name\"]=\"Don\"\n",
    "mod"
   ]
  },
  {
   "cell_type": "code",
   "execution_count": 77,
   "id": "d4d93abe-83f9-4b81-9a63-7456dd7fe468",
   "metadata": {},
   "outputs": [
    {
     "data": {
      "text/plain": [
       "{'name': 'Champ', 'month': 'Aug'}"
      ]
     },
     "execution_count": 77,
     "metadata": {},
     "output_type": "execute_result"
    }
   ],
   "source": [
    "# Eg 3: Deleting items in a dictionary\n",
    "dele={\"name\":\"Champ\",\"date\":5,\"month\":\"Aug\"}\n",
    "del dele[\"date\"]\n",
    "dele"
   ]
  },
  {
   "cell_type": "code",
   "execution_count": 78,
   "id": "39966b04-d4d5-4a9b-87ce-84e507fa7969",
   "metadata": {},
   "outputs": [],
   "source": [
    "# 8. Discuss the importance of dictionary keys being immutable and provide examples."
   ]
  },
  {
   "cell_type": "code",
   "execution_count": 91,
   "id": "73d0bfd0-7d33-46ea-b9b1-e42abac4d6fa",
   "metadata": {},
   "outputs": [
    {
     "data": {
      "text/plain": [
       "{3: 'key', 4: 'value'}"
      ]
     },
     "execution_count": 91,
     "metadata": {},
     "output_type": "execute_result"
    }
   ],
   "source": [
    "# Eg 1: Data integrity: trying to Alter key in Dictionary\n",
    "integ={3: \"key\"}\n",
    "i=4\n",
    "integ[i]= \"value\"\n",
    "integ                       # we are unable to alter the key(3) it takes a new key and value"
   ]
  },
  {
   "cell_type": "code",
   "execution_count": 92,
   "id": "08cd041d-92e8-42e4-a7a4-0c6964ead37b",
   "metadata": {},
   "outputs": [
    {
     "data": {
      "text/plain": [
       "{3: 'key', 4: 'key'}"
      ]
     },
     "execution_count": 92,
     "metadata": {},
     "output_type": "execute_result"
    }
   ],
   "source": [
    "# Eg 2: trying to change the key in Dictionary\n",
    "integ={3: \"key\"}\n",
    "integ[4]=\"key\"\n",
    "integ                      # we are unable to alter the key(3) it takes a new key and value"
   ]
  },
  {
   "cell_type": "code",
   "execution_count": null,
   "id": "0a0cda11-fb89-4499-b542-7f82aebb0acf",
   "metadata": {},
   "outputs": [],
   "source": []
  }
 ],
 "metadata": {
  "kernelspec": {
   "display_name": "Python 3 (ipykernel)",
   "language": "python",
   "name": "python3"
  },
  "language_info": {
   "codemirror_mode": {
    "name": "ipython",
    "version": 3
   },
   "file_extension": ".py",
   "mimetype": "text/x-python",
   "name": "python",
   "nbconvert_exporter": "python",
   "pygments_lexer": "ipython3",
   "version": "3.10.8"
  }
 },
 "nbformat": 4,
 "nbformat_minor": 5
}
